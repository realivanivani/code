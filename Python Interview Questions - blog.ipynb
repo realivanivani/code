{
 "cells": [
  {
   "cell_type": "markdown",
   "id": "30a0e5f0",
   "metadata": {},
   "source": [
    "# Mastering Python Interview Questions: A Comprehensive Guide\n",
    "\n",
    "Python has emerged as the go-to language in the tech industry, owing to its versatility and simplicity. Whether you're a data professional, developer, or software engineer, mastering Python interview questions can significantly boost your chances of success in technical interviews. In this guide, I'll try to cover a wide range of Python interview questions, from basic to advanced, tailored for various roles and levels of experience.\n",
    "\n",
    "The inspiration and guidance for this blog is the Datacamp blog on the same topic, but I will also regularly add questions and topics from my own experience when finding a Data Scientist job. \n",
    "\n",
    "The link to the DataCamp blog is here : https://www.datacamp.com/es/blog/top-python-interview-questions-and-answers\n",
    "\n",
    "Let's get into it!"
   ]
  },
  {
   "cell_type": "markdown",
   "id": "e2d25e83",
   "metadata": {},
   "source": [
    "## Basic Interview Questions\n",
    "\n",
    "These would probably be the most common questions encountered during an entry-level Python interview."
   ]
  },
  {
   "cell_type": "markdown",
   "id": "65870fa2",
   "metadata": {},
   "source": [
    "### 1. What is the difference between a List and a Tuple?\n",
    "\n",
    "**Explanation:** \n",
    "Lists and tuples are both fundamental data structures in Python, but they have some key differences. Lists are mutable, which means that you can change their contents after they have been created. Tuples, on the other hand, are immutable, which means that their contents cannot be changed after they have been created.\n",
    "\n",
    "**Key points:**\n",
    "* Lists are dynamic and mutable, tuples are immutable. \n",
    "* Lists are ideal for scenarios requiring frequent element insertion and deletion, whereas tuples excel in scenarios where elements remain constant.\n",
    "* Lists has several building functions, while tuples lack built-in methods.\n",
    "* Thus, tuples are faster and use less memory, while slower than tuples.\n",
    "* Lists are noted with a squared brackets like this [ ], while tuples are noted with regular brackets like this ( )\n",
    "\n",
    "**Example:**"
   ]
  },
  {
   "cell_type": "code",
   "execution_count": 2,
   "id": "2d34bff9",
   "metadata": {},
   "outputs": [],
   "source": [
    "# List Example\n",
    "a_list = [\"A\", \"1\", \"True\"]\n",
    "\n",
    "# Tuple Example\n",
    "a_tuple = (\"A\", \"1\", \"True\")"
   ]
  },
  {
   "cell_type": "code",
   "execution_count": 4,
   "id": "48c37b1a",
   "metadata": {},
   "outputs": [
    {
     "name": "stdout",
     "output_type": "stream",
     "text": [
      "['A', '1', 'True']\n",
      "('A', '1', 'True')\n"
     ]
    }
   ],
   "source": [
    "print(a_list)\n",
    "print(a_tuple)"
   ]
  },
  {
   "cell_type": "markdown",
   "id": "698d2f45",
   "metadata": {},
   "source": [
    "### 2. Mutable vs. Immutable Data Types\n",
    "\n",
    "This is a follow up question to the first question. Part of it is already explained there.\n",
    "\n",
    "**Explanation:** \n",
    "Mutable data types in Python can be modified and changed at runtime, such as lists, dictionaries, and sets. In contrast, immutable data types cannot be changed or modified once created and remain unchanged during runtime, such as numeric types, strings, and tuples.\n",
    "\n",
    "**Key points:**\n",
    "* Mutable data types can be changed after they have been created.P\n",
    "* Immutable data types cannot be changed after they have been created.\n",
    "\n",
    "**Example:**\n",
    "* Mutable data types in Python include lists, dictionaries, and sets.\n",
    "* Immutable data types in Python include numbers, strings, and tuples."
   ]
  },
  {
   "cell_type": "markdown",
   "id": "1bb35b91",
   "metadata": {},
   "source": [
    "### 4. What is __ init __() in Python?\n",
    "\n",
    "This is a common starter question when someone wants access the level of candidate's knowledge of OOP.\n",
    "\n",
    "**Explanation:** \n",
    "The __ init __() method is a special method that is called when you create a new object in Python. It is also known as the constructor in OOP terminology. The __ init __() method is used to initialize the object's state, such as setting its attributes.\n",
    "\n",
    "**Key points:**\n",
    "* __ init __ is called **Contructor** in OOP\n",
    "* It's defined using the syntax def __init__(self, parameters):.\n",
    "* The self parameter represents the instance of the class itself, allowing you to access and modify its attributes.\n",
    "* You can define multiple parameters within __init__() to accept initial values for the object's attributes.\n",
    "* While not mandatory, it's considered good practice to include an __init__() method in most classes to properly initialize their objects.\n",
    "\n",
    "**Example:**\n",
    "Here is an example of using the Constructor during the creation of a simple Person class:"
   ]
  },
  {
   "cell_type": "markdown",
   "id": "c401a479",
   "metadata": {},
   "source": [
    "### 4. What is __ init __() in Python?\n",
    "\n",
    "This is a common starter question when someone wants access the level of candidate's knowledge of OOP.\n",
    "\n",
    "**Explanation:** \n",
    "The __ init __() method is a special method that is called when you create a new object in Python. It is also known as the constructor in OOP terminology. The __ init __() method is used to initialize the object's state, such as setting its attributes.\n",
    "\n",
    "**Key points:**\n",
    "* __ init __ is called **Contructor** in OOP\n",
    "* It's defined using the syntax def __init__(self, parameters):.\n",
    "* The self parameter represents the instance of the class itself, allowing you to access and modify its attributes.\n",
    "* You can define multiple parameters within __init__() to accept initial values for the object's attributes.\n",
    "* While not mandatory, it's considered good practice to include an __init__() method in most classes to properly initialize their objects.\n",
    "\n",
    "**Example:**\n",
    "Here is an example of using the Constructor during the creation of a simple Person class:"
   ]
  },
  {
   "cell_type": "code",
   "execution_count": 5,
   "id": "a843157b",
   "metadata": {},
   "outputs": [
    {
     "name": "stdout",
     "output_type": "stream",
     "text": [
      "Person name: Alice\n",
      "Person age: 30\n",
      "Hello, my name is Alice and I'm 30 years old!\n"
     ]
    }
   ],
   "source": [
    "class Person:\n",
    "  def __init__(self, name, age):\n",
    "    \"\"\"\n",
    "    Initializes a new Person object.\n",
    "\n",
    "    Args:\n",
    "      name: The name of the person.\n",
    "      age: The age of the person.\n",
    "    \"\"\"\n",
    "    self.name = name\n",
    "    self.age = age\n",
    "\n",
    "  def greet(self):\n",
    "    \"\"\"\n",
    "    Greets the person.\n",
    "    \"\"\"\n",
    "    print(f\"Hello, my name is {self.name} and I'm {self.age} years old!\")\n",
    "\n",
    "# Create a new Person object\n",
    "person1 = Person(\"Alice\", 30)\n",
    "\n",
    "# Access and print person's attributes\n",
    "print(f\"Person name: {person1.name}\")\n",
    "print(f\"Person age: {person1.age}\")\n",
    "\n",
    "# Call the greet method\n",
    "person1.greet()"
   ]
  },
  {
   "cell_type": "code",
   "execution_count": null,
   "id": "91bc6bf3",
   "metadata": {},
   "outputs": [],
   "source": []
  }
 ],
 "metadata": {
  "kernelspec": {
   "display_name": "Python 3 (ipykernel)",
   "language": "python",
   "name": "python3"
  },
  "language_info": {
   "codemirror_mode": {
    "name": "ipython",
    "version": 3
   },
   "file_extension": ".py",
   "mimetype": "text/x-python",
   "name": "python",
   "nbconvert_exporter": "python",
   "pygments_lexer": "ipython3",
   "version": "3.11.5"
  }
 },
 "nbformat": 4,
 "nbformat_minor": 5
}
