{
 "cells": [
  {
   "cell_type": "markdown",
   "id": "c2759943-23ae-4e70-9025-dcdbd170e443",
   "metadata": {},
   "source": [
    "# Class"
   ]
  },
  {
   "cell_type": "code",
   "execution_count": 5,
   "id": "c8b43d2c-e54a-42e3-a380-12adf9943bcb",
   "metadata": {
    "tags": []
   },
   "outputs": [],
   "source": [
    "# An example class\n",
    "class Item:\n",
    "            pass"
   ]
  },
  {
   "cell_type": "code",
   "execution_count": 11,
   "id": "3c07b050-1661-4bcc-9b41-0c088de76281",
   "metadata": {
    "tags": []
   },
   "outputs": [],
   "source": [
    "item1 = Item()"
   ]
  },
  {
   "cell_type": "code",
   "execution_count": 12,
   "id": "268dfb77-4e54-4769-96fd-d84451c0b869",
   "metadata": {
    "tags": []
   },
   "outputs": [],
   "source": [
    "# adding attributes to the class\n",
    "item1.name = \"Car\"\n",
    "item1.price = 100\n",
    "item1.quantity = 5"
   ]
  },
  {
   "cell_type": "markdown",
   "id": "33221aff-61fc-46c5-9925-3f9de8e1df1d",
   "metadata": {},
   "source": [
    "###### side note: Function inside a class are called methods"
   ]
  },
  {
   "cell_type": "code",
   "execution_count": 9,
   "id": "97acde62-c6c3-46b9-a88e-3cbbf359aa2a",
   "metadata": {
    "tags": []
   },
   "outputs": [],
   "source": [
    "# Rewritting the class with the constructor\n",
    "class Item:\n",
    "    \n",
    "    # methods need to have at least one argument. One should always leave a self in the parameters.\n",
    "    def calculate_total_price(self, x, y):\n",
    "        return x* y\n",
    "            "
   ]
  },
  {
   "cell_type": "markdown",
   "id": "69a785d8-b2ea-4313-9ffd-28155515f27f",
   "metadata": {},
   "source": [
    "###### side note: methods need to have at least one argument. One should always leave a self in the parameters."
   ]
  },
  {
   "cell_type": "code",
   "execution_count": 13,
   "id": "a16d30e8-263b-4cdb-9d29-d57a8ea017c5",
   "metadata": {
    "tags": []
   },
   "outputs": [
    {
     "name": "stdout",
     "output_type": "stream",
     "text": [
      "500\n"
     ]
    }
   ],
   "source": [
    "print(item1.calculate_total_price(item1.price, item1.quantity))"
   ]
  },
  {
   "cell_type": "markdown",
   "id": "c47dd78d-f3b2-48ee-b950-81f22db039b5",
   "metadata": {},
   "source": [
    "## 1. Constructor,  __ init __ "
   ]
  },
  {
   "cell_type": "markdown",
   "id": "de5ab640-42f7-4b97-9d56-cdd3180dc6b2",
   "metadata": {},
   "source": [
    "In order to create set of rules for instatiation of a class (like making it compusory to have certain parameters), one must \n",
    "__Init__ is a special method that runs commands defined in the method once an instance of a class is created. \n",
    "\n",
    "It's part of the magic methods (the once that are named with _ _ in front and back of the name)."
   ]
  },
  {
   "cell_type": "code",
   "execution_count": 26,
   "id": "3f4705de-c744-41dd-b231-e2adf5345a55",
   "metadata": {
    "tags": []
   },
   "outputs": [],
   "source": [
    "# a simple way to just initiate an instance\n",
    "class Item_inst:\n",
    "\n",
    "    def __init__(self):\n",
    "        print(\"I'm created\")\n",
    "        "
   ]
  },
  {
   "cell_type": "code",
   "execution_count": 19,
   "id": "a73af650-9a93-467e-80ad-240603069192",
   "metadata": {
    "tags": []
   },
   "outputs": [
    {
     "name": "stdout",
     "output_type": "stream",
     "text": [
      "I'm created\n"
     ]
    }
   ],
   "source": [
    "item2 = Item_inst()"
   ]
  },
  {
   "cell_type": "code",
   "execution_count": 12,
   "id": "d4bc23b3-abb0-419c-b930-a789d0bfa89e",
   "metadata": {
    "tags": []
   },
   "outputs": [],
   "source": [
    "# adding attributes to the class\n",
    "item2.name = \"Car\"\n",
    "item2.price = 100\n",
    "item2.quantity = 5"
   ]
  },
  {
   "cell_type": "markdown",
   "id": "e1885253-9b84-43de-9656-5535258b8445",
   "metadata": {},
   "source": [
    "A better way is to initate a class is to assign an attribute in the init method\n"
   ]
  },
  {
   "cell_type": "code",
   "execution_count": 49,
   "id": "f9ed6ac7-39f5-4870-b03a-6d8ed3977064",
   "metadata": {
    "tags": []
   },
   "outputs": [],
   "source": [
    "# a way to initate a class and assign an attribute, we add it in the init method\n",
    "class Item_init:\n",
    "\n",
    "    def __init__(self, name, price, quantity=0):\n",
    "        self.name = name\n",
    "        self.price = price\n",
    "        self.quantity = quantity\n",
    "        print(f\"An instance is created: {name} of {price} with {quantity} units\")\n",
    "        \n",
    "    def calculate_total_price(self):   # now, there is no need to input x,y since self has the price and quantity attributes in itself\n",
    "        return self.price * self.quantity\n",
    "        "
   ]
  },
  {
   "cell_type": "code",
   "execution_count": 47,
   "id": "d4b62a76-0f94-48e9-a6aa-768ca2a92d3f",
   "metadata": {
    "tags": []
   },
   "outputs": [
    {
     "name": "stdout",
     "output_type": "stream",
     "text": [
      "An instance is created: Phone of 100 with 5 units\n"
     ]
    }
   ],
   "source": [
    "item2 = Item_init(\"Phone\", 100, 5)"
   ]
  },
  {
   "cell_type": "code",
   "execution_count": 37,
   "id": "c00be497-3cc8-4f13-afa7-8a742b89ff8c",
   "metadata": {
    "tags": []
   },
   "outputs": [],
   "source": [
    "# you can add attributes after initiating instances\n",
    "\n",
    "item2.has_numpad = False"
   ]
  },
  {
   "cell_type": "code",
   "execution_count": 48,
   "id": "7348a02f-d10f-487d-a178-22a695f95e75",
   "metadata": {
    "tags": []
   },
   "outputs": [
    {
     "data": {
      "text/plain": [
       "500"
      ]
     },
     "execution_count": 48,
     "metadata": {},
     "output_type": "execute_result"
    }
   ],
   "source": [
    "item2.calculate_total_price()"
   ]
  },
  {
   "cell_type": "code",
   "execution_count": 50,
   "id": "95975537-9057-4325-87e6-cad572de038b",
   "metadata": {
    "tags": []
   },
   "outputs": [
    {
     "name": "stdout",
     "output_type": "stream",
     "text": [
      "An instance is created: Phone of 100 with 5 units\n"
     ]
    }
   ],
   "source": [
    "item2 = Item_init(\"Phone\", \"100\", 5)"
   ]
  },
  {
   "cell_type": "code",
   "execution_count": 51,
   "id": "9399788f-a8e5-4d83-a941-ffeb8c9fa69e",
   "metadata": {
    "tags": []
   },
   "outputs": [
    {
     "data": {
      "text/plain": [
       "'100100100100100'"
      ]
     },
     "execution_count": 51,
     "metadata": {},
     "output_type": "execute_result"
    }
   ],
   "source": [
    "item2.calculate_total_price()"
   ]
  },
  {
   "cell_type": "markdown",
   "id": "26ac7f13-2831-454e-9445-ab3922c04978",
   "metadata": {},
   "source": [
    "Since the input price is a string, the output function produces a string instead of integer.\n",
    "\n",
    "We have to define the conditions for attributes: \n",
    "    - type (name:str)\n",
    "    - validation (assert price >= 0)"
   ]
  },
  {
   "cell_type": "code",
   "execution_count": 54,
   "id": "f6cae18e-4ce4-4d57-bb0e-9532584994a6",
   "metadata": {
    "tags": []
   },
   "outputs": [],
   "source": [
    "# a way to initate a class and assign an attribute, we add it in the init method\n",
    "class Item_init:\n",
    "\n",
    "    def __init__(self, name: str, price: float, quantity=0):\n",
    "        # Run validation to the received arguments\n",
    "        assert price >= 0, f\"Price {price} is not greated or equal to zero!\"\n",
    "        \n",
    "        # Assign to the self level\n",
    "        self.name = name\n",
    "        self.price = price\n",
    "        self.quantity = quantity\n",
    "                \n",
    "    def calculate_total_price(self):   # now, there is no need to input x,y since self has the price and quantity attributes in itself\n",
    "        return self.price * self.quantity"
   ]
  },
  {
   "cell_type": "code",
   "execution_count": 56,
   "id": "ddf5aa2d-7bac-40cc-83cd-c85576c25015",
   "metadata": {
    "tags": []
   },
   "outputs": [
    {
     "ename": "AssertionError",
     "evalue": "Price -5 is not greated or equal to zero!",
     "output_type": "error",
     "traceback": [
      "\u001b[1;31m---------------------------------------------------------------------------\u001b[0m",
      "\u001b[1;31mAssertionError\u001b[0m                            Traceback (most recent call last)",
      "Cell \u001b[1;32mIn[56], line 1\u001b[0m\n\u001b[1;32m----> 1\u001b[0m item2 \u001b[38;5;241m=\u001b[39m Item_init(\u001b[38;5;124m\"\u001b[39m\u001b[38;5;124mPhone\u001b[39m\u001b[38;5;124m\"\u001b[39m, \u001b[38;5;241m-\u001b[39m\u001b[38;5;241m5\u001b[39m, \u001b[38;5;241m5\u001b[39m)\n",
      "Cell \u001b[1;32mIn[54], line 6\u001b[0m, in \u001b[0;36mItem_init.__init__\u001b[1;34m(self, name, price, quantity)\u001b[0m\n\u001b[0;32m      4\u001b[0m \u001b[38;5;28;01mdef\u001b[39;00m \u001b[38;5;21m__init__\u001b[39m(\u001b[38;5;28mself\u001b[39m, name: \u001b[38;5;28mstr\u001b[39m, price: \u001b[38;5;28mfloat\u001b[39m, quantity\u001b[38;5;241m=\u001b[39m\u001b[38;5;241m0\u001b[39m):\n\u001b[0;32m      5\u001b[0m     \u001b[38;5;66;03m# Run validation to the received arguments\u001b[39;00m\n\u001b[1;32m----> 6\u001b[0m     \u001b[38;5;28;01massert\u001b[39;00m price \u001b[38;5;241m>\u001b[39m\u001b[38;5;241m=\u001b[39m \u001b[38;5;241m0\u001b[39m, \u001b[38;5;124mf\u001b[39m\u001b[38;5;124m\"\u001b[39m\u001b[38;5;124mPrice \u001b[39m\u001b[38;5;132;01m{\u001b[39;00mprice\u001b[38;5;132;01m}\u001b[39;00m\u001b[38;5;124m is not greated or equal to zero!\u001b[39m\u001b[38;5;124m\"\u001b[39m\n\u001b[0;32m      8\u001b[0m     \u001b[38;5;28mself\u001b[39m\u001b[38;5;241m.\u001b[39mname \u001b[38;5;241m=\u001b[39m name\n\u001b[0;32m      9\u001b[0m     \u001b[38;5;28mself\u001b[39m\u001b[38;5;241m.\u001b[39mprice \u001b[38;5;241m=\u001b[39m price\n",
      "\u001b[1;31mAssertionError\u001b[0m: Price -5 is not greated or equal to zero!"
     ]
    }
   ],
   "source": [
    "item2 = Item_init(\"Phone\", -5, 5)"
   ]
  },
  {
   "cell_type": "markdown",
   "id": "7e8ccf4a-6918-405e-893a-c33de7a8741c",
   "metadata": {},
   "source": [
    "#### Class attributes\n",
    "\n",
    "Attributes that are shared across all the instances of the class. You can also access those attributes from the class.\n",
    "Those are define in the beginning of the class.\n",
    "\n",
    "Once called, the class is searching for the attribute within the self, if not found, it searches on the class level."
   ]
  },
  {
   "cell_type": "code",
   "execution_count": 57,
   "id": "b8ff96e3-a395-4b6a-88ba-1a414ed5c2b7",
   "metadata": {
    "tags": []
   },
   "outputs": [],
   "source": [
    "class Item_init:\n",
    "    pay_rate = 0.8   # pay rate after the discount\n",
    "    \n",
    "    def __init__(self, name: str, price: float, quantity=0):\n",
    "        # Run validation to the received arguments\n",
    "        assert price >= 0, f\"Price {price} is not greated or equal to zero!\"\n",
    "        \n",
    "        # Assign to the self level\n",
    "        self.name = name"
   ]
  },
  {
   "cell_type": "code",
   "execution_count": 62,
   "id": "2814ae2f-32be-45f0-a3de-03729715d2ad",
   "metadata": {
    "tags": []
   },
   "outputs": [
    {
     "name": "stdout",
     "output_type": "stream",
     "text": [
      "{'__module__': '__main__', 'pay_rate': 0.8, '__init__': <function Item_init.__init__ at 0x0000023FF9607C40>, '__dict__': <attribute '__dict__' of 'Item_init' objects>, '__weakref__': <attribute '__weakref__' of 'Item_init' objects>, '__doc__': None}\n"
     ]
    }
   ],
   "source": [
    "# to check all the attributes to the class\n",
    "print(Item_init.__dict__)"
   ]
  },
  {
   "cell_type": "code",
   "execution_count": 61,
   "id": "e84cf317-2f85-490f-acd8-b68a82eb5a92",
   "metadata": {
    "tags": []
   },
   "outputs": [
    {
     "name": "stdout",
     "output_type": "stream",
     "text": [
      "{'name': 'Phone', 'price': '100', 'quantity': 5}\n"
     ]
    }
   ],
   "source": [
    "# to check all the attributes to self within the class\n",
    "print(item2.__dict__)"
   ]
  },
  {
   "cell_type": "markdown",
   "id": "621a6f0c-0e05-4904-90a5-84f0b588ec3a",
   "metadata": {},
   "source": [
    "If we call the class attribute as follow: \n",
    "    \n",
    "    -   Class.Attribute within the methods in the class, then any change of the attribute in the instance will not have an effect in the methods, the attribute will stay the same.\n",
    "    \n",
    "    -   self.Attribute, then any change for the instances will be recorded. "
   ]
  },
  {
   "cell_type": "code",
   "execution_count": 4,
   "id": "5a603c68-7dfe-4142-800e-99b725d7c3f7",
   "metadata": {
    "tags": []
   },
   "outputs": [],
   "source": [
    "class Item:\n",
    "    pay_rate = 0.8   # pay rate after the discount\n",
    "    \n",
    "    def __init__(self, name: str, price: float, quantity=0):\n",
    "        # Run validation to the received arguments\n",
    "        assert price >= 0, f\"Price {price} is not greated or equal to zero!\"\n",
    "        \n",
    "        # Assign to the self level\n",
    "        self.name = name\n",
    "        self.price = price\n",
    "        self.quantity = quantity\n",
    "    \n",
    "    def calculate_total_price(self):   \n",
    "        return self.price * self.quantity\n",
    "        \n",
    "    def apply_discount(self):\n",
    "        self.price = self.price * self.pay_rate   # If we want to call class attribute would be: Item.pay_rate"
   ]
  },
  {
   "cell_type": "markdown",
   "id": "9b53c694-c006-421a-9c14-5ab584499a40",
   "metadata": {},
   "source": [
    "In order to create a list of instances created of the class, we can do the following:\n",
    "\n",
    "    - add an empty list in the class attributes:  all=[]\n",
    "    - add a command in the __init__: Class.all.append(self)"
   ]
  },
  {
   "cell_type": "code",
   "execution_count": 6,
   "id": "baa08d55-5251-4aca-8c0b-1227638e21d1",
   "metadata": {
    "tags": []
   },
   "outputs": [],
   "source": [
    "class Item:\n",
    "    pay_rate = 0.8   # pay rate after the discount\n",
    "    all = []\n",
    "    def __init__(self, name: str, price: float, quantity=0):\n",
    "        # Run validation to the received arguments\n",
    "        assert price >= 0, f\"Price {price} is not greated or equal to zero!\"\n",
    "        \n",
    "        # Assign to the self level\n",
    "        self.name = name\n",
    "        self.price = price\n",
    "        self.quantity = quantity\n",
    "        \n",
    "        # Actions to execute\n",
    "        Item.all.append(self)\n",
    "        \n",
    "    def calculate_total_price(self):   \n",
    "        return self.price * self.quantity\n",
    "        \n",
    "    def apply_discount(self):\n",
    "        self.price = self.price * self.pay_rate   # If we want to call class attribute would be: Item.pay_rate"
   ]
  },
  {
   "cell_type": "code",
   "execution_count": 7,
   "id": "0a969a75-6cd1-4d12-95bf-847dbf073603",
   "metadata": {},
   "outputs": [],
   "source": [
    "item1 = Item(\"Phone\", 100,1)\n",
    "item2 = Item(\"Laptop\", 1000,3)\n",
    "item3 = Item(\"Cable\", 10,5)\n",
    "item4 = Item(\"Mouse\", 50,5)\n",
    "item5 = Item(\"Keyboard\", 75,5)"
   ]
  },
  {
   "cell_type": "code",
   "execution_count": 9,
   "id": "5ed86b5e-e927-43ea-8a58-bf5e8c2097a1",
   "metadata": {
    "tags": []
   },
   "outputs": [
    {
     "name": "stdout",
     "output_type": "stream",
     "text": [
      "[<__main__.Item object at 0x0000019060737AD0>, <__main__.Item object at 0x000001905FA95AD0>, <__main__.Item object at 0x000001905FA95210>, <__main__.Item object at 0x000001905FA966D0>, <__main__.Item object at 0x000001905FA94850>]\n"
     ]
    }
   ],
   "source": [
    "# Print all instances of Item\n",
    "print(Item.all)"
   ]
  },
  {
   "cell_type": "code",
   "execution_count": 10,
   "id": "86d3728b-0afe-42da-b08d-c83d1abecbcc",
   "metadata": {
    "tags": []
   },
   "outputs": [
    {
     "name": "stdout",
     "output_type": "stream",
     "text": [
      "Phone\n",
      "Laptop\n",
      "Cable\n",
      "Mouse\n",
      "Keyboard\n"
     ]
    }
   ],
   "source": [
    "for instance in Item.all:\n",
    "    print(instance.name)"
   ]
  },
  {
   "cell_type": "markdown",
   "id": "09ead923-07dd-4a3f-a013-89b252bc10a6",
   "metadata": {},
   "source": [
    "#### __ repr __\n",
    "\n",
    "A magic method to represent a new object. We use it to print out the instances with it's attributes. \n",
    "\n",
    "The best practice is to represent it as it is created: return f\"Class('{self.attribute}',...)\n",
    "\n",
    "This is recommended by Python, since it can easily be copied and paste in the code."
   ]
  },
  {
   "cell_type": "code",
   "execution_count": 11,
   "id": "09267d99-0866-457f-b0b5-36c637b21897",
   "metadata": {
    "tags": []
   },
   "outputs": [],
   "source": [
    "class Item:\n",
    "    pay_rate = 0.8   # pay rate after the discount\n",
    "    all = []\n",
    "    def __init__(self, name: str, price: float, quantity=0):\n",
    "        # Run validation to the received arguments\n",
    "        assert price >= 0, f\"Price {price} is not greated or equal to zero!\"\n",
    "        \n",
    "        # Assign to the self level\n",
    "        self.name = name\n",
    "        self.price = price\n",
    "        self.quantity = quantity\n",
    "        \n",
    "        # Actions to execute\n",
    "        Item.all.append(self)\n",
    "        \n",
    "    def calculate_total_price(self):   \n",
    "        return self.price * self.quantity\n",
    "        \n",
    "    def apply_discount(self):\n",
    "        self.price = self.price * self.pay_rate\n",
    "        \n",
    "    def __repr__(self):\n",
    "        return f\"Item('{self.name}', {self.price}, {self.quantity})\""
   ]
  },
  {
   "cell_type": "code",
   "execution_count": 13,
   "id": "c069a17e-688a-4e6a-b5cc-454a3a3b12c4",
   "metadata": {
    "tags": []
   },
   "outputs": [
    {
     "name": "stdout",
     "output_type": "stream",
     "text": [
      "[Item('Phone', 100, 1), Item('Laptop', 1000, 3), Item('Cable', 10, 5), Item('Mouse', 50, 5), Item('Keyboard', 75, 5)]\n"
     ]
    }
   ],
   "source": [
    "item1 = Item(\"Phone\", 100,1)\n",
    "item2 = Item(\"Laptop\", 1000,3)\n",
    "item3 = Item(\"Cable\", 10,5)\n",
    "item4 = Item(\"Mouse\", 50,5)\n",
    "item5 = Item(\"Keyboard\", 75,5)\n",
    "\n",
    "print(Item.all)"
   ]
  },
  {
   "cell_type": "markdown",
   "id": "ea798746-1b64-4e32-8383-f6f5027d6d00",
   "metadata": {},
   "source": [
    "## Class vs Static method"
   ]
  },
  {
   "cell_type": "markdown",
   "id": "3ea0a469-2304-403a-a8aa-e5b70b13921c",
   "metadata": {},
   "source": [
    "### Class methods"
   ]
  },
  {
   "cell_type": "markdown",
   "id": "f843250a-1ee9-4439-9beb-8d82b9713607",
   "metadata": {},
   "source": [
    "Class methods can only be instatiated only from the class itself. That is the reason for removing self from the attribute in the method.\n",
    "\n",
    "In order to convert a method into a class method  we need to use a decorator (@classmethod) just before the method in the class.\n",
    "\n",
    "We also need to pass the class reference as an attribute (cls):"
   ]
  },
  {
   "cell_type": "markdown",
   "id": "d6fcf711-9db0-494d-97d2-7b954c9eea62",
   "metadata": {},
   "source": [
    "Here we want to read the instances from a csv file. That's why we will create a classmethod that will read a csv file and import rows as instances."
   ]
  },
  {
   "cell_type": "code",
   "execution_count": 25,
   "id": "9638467a-ada0-4151-8b22-14dc62cfaf12",
   "metadata": {
    "tags": []
   },
   "outputs": [],
   "source": [
    "import csv\n",
    "\n",
    "class Item:\n",
    "    pay_rate = 0.8   # pay rate after the discount\n",
    "    all = []\n",
    "    def __init__(self, name: str, price: float, quantity=0):\n",
    "        # Run validation to the received arguments\n",
    "        assert price >= 0, f\"Price {price} is not greated or equal to zero!\"\n",
    "        \n",
    "        # Assign to the self level\n",
    "        self.name = name\n",
    "        self.price = price\n",
    "        self.quantity = quantity\n",
    "        \n",
    "        # Actions to execute\n",
    "        Item.all.append(self)\n",
    "        \n",
    "    def calculate_total_price(self):   \n",
    "        return self.price * self.quantity\n",
    "    \n",
    "    @classmethod\n",
    "    def instantiate_from_csv(cls):\n",
    "        with open('items.csv', 'r') as f:\n",
    "            reader = csv.DictReader(f)\n",
    "            items = list(reader)\n",
    "            \n",
    "            for item in items:\n",
    "                # print(item)\n",
    "                Item(\n",
    "                    name=item.get('name'),\n",
    "                    # we need to add int, so it reads it as int, not string. otherwise it will give a TypeError\n",
    "                    price=float(item.get('price')),                     \n",
    "                    quantity=int(item.get('quantity')),\n",
    "                )\n",
    "    def apply_discount(self):\n",
    "        self.price = self.price * self.pay_rate\n",
    "        \n",
    "    def __repr__(self):\n",
    "        return f\"Item('{self.name}', {self.price}, {self.quantity})\""
   ]
  },
  {
   "cell_type": "code",
   "execution_count": 19,
   "id": "12e7a61e-a1a6-40f1-88ff-cfd2df486017",
   "metadata": {
    "tags": []
   },
   "outputs": [
    {
     "name": "stdout",
     "output_type": "stream",
     "text": [
      "{'name': 'Phone', 'price': '100', 'quantity': '1'}\n",
      "{'name': 'Laptop', 'price': '1000', 'quantity': '3'}\n",
      "{'name': 'Cable', 'price': '10', 'quantity': '5'}\n",
      "{'name': 'Mouse', 'price': '50', 'quantity': '5'}\n",
      "{'name': 'Keyboard', 'price': '75', 'quantity': '5'}\n"
     ]
    }
   ],
   "source": [
    "Item.instantiate_from_csv()"
   ]
  },
  {
   "cell_type": "code",
   "execution_count": 26,
   "id": "5d9ba9b8-e3dd-4102-bf11-5499b9437e59",
   "metadata": {
    "tags": []
   },
   "outputs": [
    {
     "name": "stdout",
     "output_type": "stream",
     "text": [
      "[Item('Phone', 100.0, 1), Item('Laptop', 1000.0, 3), Item('Cable', 10.0, 5), Item('Mouse', 50.0, 5), Item('Keyboard', 75.0, 5)]\n"
     ]
    }
   ],
   "source": [
    "Item.instantiate_from_csv()\n",
    "print(Item.all)"
   ]
  },
  {
   "cell_type": "markdown",
   "id": "8051dd4b-efc4-490a-b1a4-1055cbed4822",
   "metadata": {},
   "source": [
    "### Static method"
   ]
  },
  {
   "cell_type": "markdown",
   "id": "497061a3-e52b-465d-8824-372324c53ccd",
   "metadata": {},
   "source": [
    "A static method is used when the method is not unique per instance, but it is somehow related to the class. This is similar to a function written outside of the class. But these methods can also be called from the instances itself.\n",
    "\n",
    "Static methods never send the object (self) in the backgroud as the parameter. This is the main difference between class and static methods.\n",
    "\n",
    "To call it, we will use a decorator called @staticmethod"
   ]
  },
  {
   "cell_type": "markdown",
   "id": "36584354-7899-4270-b801-cb82c9dd9550",
   "metadata": {},
   "source": [
    "We will write a static method that will check if a received number is an integer or not."
   ]
  },
  {
   "cell_type": "code",
   "execution_count": 30,
   "id": "af48a88e-2153-4a9b-9e2e-8b3c8a6278c5",
   "metadata": {
    "tags": []
   },
   "outputs": [],
   "source": [
    "import csv\n",
    "\n",
    "class Item:\n",
    "    pay_rate = 0.8   # pay rate after the discount\n",
    "    all = []\n",
    "    def __init__(self, name: str, price: float, quantity=0):\n",
    "        # Run validation to the received arguments\n",
    "        assert price >= 0, f\"Price {price} is not greated or equal to zero!\"\n",
    "        \n",
    "        # Assign to the self level\n",
    "        self.name = name\n",
    "        self.price = price\n",
    "        self.quantity = quantity\n",
    "        \n",
    "        # Actions to execute\n",
    "        Item.all.append(self)\n",
    "        \n",
    "    def calculate_total_price(self):   \n",
    "        return self.price * self.quantity\n",
    "    \n",
    "    @classmethod\n",
    "    def instantiate_from_csv(cls):\n",
    "        with open('items.csv', 'r') as f:\n",
    "            reader = csv.DictReader(f)\n",
    "            items = list(reader)\n",
    "            \n",
    "            for item in items:\n",
    "                # print(item)\n",
    "                Item(\n",
    "                    name=item.get('name'),\n",
    "                    # we need to add int, so it reads it as int, not string. otherwise it will give a TypeError\n",
    "                    price=float(item.get('price')),                     \n",
    "                    quantity=int(item.get('quantity')),\n",
    "                )\n",
    "    def apply_discount(self):\n",
    "        self.price = self.price * self.pay_rate\n",
    "        \n",
    "    @staticmethod\n",
    "    def is_integer(num):\n",
    "        # We will count out the floats that are point zero; for i.e.: 5.0, 10.0\n",
    "        if isinstance(num, float):\n",
    "            # Count out the floats that are point zero\n",
    "            return num.is_integer()\n",
    "        # check if num is integer\n",
    "        elif isinstance(num, int):\n",
    "            return True\n",
    "        else:\n",
    "            return False\n",
    "        \n",
    "    def __repr__(self):\n",
    "        return f\"Item('{self.name}', {self.price}, {self.quantity})\""
   ]
  },
  {
   "cell_type": "code",
   "execution_count": 29,
   "id": "676dc8a5-01cb-4df1-b32c-36f303d80bb7",
   "metadata": {
    "tags": []
   },
   "outputs": [
    {
     "name": "stdout",
     "output_type": "stream",
     "text": [
      "True\n"
     ]
    }
   ],
   "source": [
    "print(Item.is_integer(7.0))"
   ]
  },
  {
   "cell_type": "code",
   "execution_count": null,
   "id": "1af1a1ed-9e8a-4175-9268-9a80ef32b051",
   "metadata": {},
   "outputs": [],
   "source": []
  }
 ],
 "metadata": {
  "kernelspec": {
   "display_name": "Python 3 (ipykernel)",
   "language": "python",
   "name": "python3"
  },
  "language_info": {
   "codemirror_mode": {
    "name": "ipython",
    "version": 3
   },
   "file_extension": ".py",
   "mimetype": "text/x-python",
   "name": "python",
   "nbconvert_exporter": "python",
   "pygments_lexer": "ipython3",
   "version": "3.11.5"
  }
 },
 "nbformat": 4,
 "nbformat_minor": 5
}
