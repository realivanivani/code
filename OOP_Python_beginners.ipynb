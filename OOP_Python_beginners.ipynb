{
 "cells": [
  {
   "cell_type": "markdown",
   "id": "c2759943-23ae-4e70-9025-dcdbd170e443",
   "metadata": {},
   "source": [
    "# Class"
   ]
  },
  {
   "cell_type": "code",
   "execution_count": 5,
   "id": "c8b43d2c-e54a-42e3-a380-12adf9943bcb",
   "metadata": {
    "tags": []
   },
   "outputs": [],
   "source": [
    "# An example class\n",
    "class Item:\n",
    "            pass"
   ]
  },
  {
   "cell_type": "code",
   "execution_count": 11,
   "id": "3c07b050-1661-4bcc-9b41-0c088de76281",
   "metadata": {
    "tags": []
   },
   "outputs": [],
   "source": [
    "item1 = Item()"
   ]
  },
  {
   "cell_type": "code",
   "execution_count": 12,
   "id": "268dfb77-4e54-4769-96fd-d84451c0b869",
   "metadata": {
    "tags": []
   },
   "outputs": [],
   "source": [
    "# adding attributes to the class\n",
    "item1.name = \"Car\"\n",
    "item1.price = 100\n",
    "item1.quantity = 5"
   ]
  },
  {
   "cell_type": "markdown",
   "id": "33221aff-61fc-46c5-9925-3f9de8e1df1d",
   "metadata": {},
   "source": [
    "###### side note: Function inside a class are called methods"
   ]
  },
  {
   "cell_type": "code",
   "execution_count": 9,
   "id": "97acde62-c6c3-46b9-a88e-3cbbf359aa2a",
   "metadata": {
    "tags": []
   },
   "outputs": [],
   "source": [
    "# Rewritting the class with the constructor\n",
    "class Item:\n",
    "    \n",
    "    # methods need to have at least one argument. One should always leave a self in the parameters.\n",
    "    def calculate_total_price(self, x, y):\n",
    "        return x* y\n",
    "            "
   ]
  },
  {
   "cell_type": "markdown",
   "id": "69a785d8-b2ea-4313-9ffd-28155515f27f",
   "metadata": {},
   "source": [
    "###### side note: methods need to have at least one argument. One should always leave a self in the parameters."
   ]
  },
  {
   "cell_type": "code",
   "execution_count": 13,
   "id": "a16d30e8-263b-4cdb-9d29-d57a8ea017c5",
   "metadata": {
    "tags": []
   },
   "outputs": [
    {
     "name": "stdout",
     "output_type": "stream",
     "text": [
      "500\n"
     ]
    }
   ],
   "source": [
    "print(item1.calculate_total_price(item1.price, item1.quantity))"
   ]
  },
  {
   "cell_type": "markdown",
   "id": "c47dd78d-f3b2-48ee-b950-81f22db039b5",
   "metadata": {},
   "source": [
    "## 1. Constructor,  __ init __ "
   ]
  },
  {
   "cell_type": "markdown",
   "id": "de5ab640-42f7-4b97-9d56-cdd3180dc6b2",
   "metadata": {},
   "source": [
    "In order to create set of rules for instatiation of a class (like making it compusory to have certain parameters), one must \n",
    "__Init__ is a special method that runs commands defined in the method once an instance of a class is created. \n",
    "\n",
    "It's part of the magic methods, or also called Dunder methods (the once that are named with _ _ in front and back of the name)reated. \n",
    "Dunder methods are defined by built-in classes in Python and commonly used for operator overloading. They’re special methods that you can use to customize classes in Python."
   ]
  },
  {
   "cell_type": "code",
   "execution_count": 26,
   "id": "3f4705de-c744-41dd-b231-e2adf5345a55",
   "metadata": {
    "tags": []
   },
   "outputs": [],
   "source": [
    "# a simple way to just initiate an instance\n",
    "class Item_inst:\n",
    "\n",
    "    def __init__(self):\n",
    "        print(\"I'm created\")\n",
    "        "
   ]
  },
  {
   "cell_type": "code",
   "execution_count": 19,
   "id": "a73af650-9a93-467e-80ad-240603069192",
   "metadata": {
    "tags": []
   },
   "outputs": [
    {
     "name": "stdout",
     "output_type": "stream",
     "text": [
      "I'm created\n"
     ]
    }
   ],
   "source": [
    "item2 = Item_inst()"
   ]
  },
  {
   "cell_type": "code",
   "execution_count": 12,
   "id": "d4bc23b3-abb0-419c-b930-a789d0bfa89e",
   "metadata": {
    "tags": []
   },
   "outputs": [],
   "source": [
    "# adding attributes to the class\n",
    "item2.name = \"Car\"\n",
    "item2.price = 100\n",
    "item2.quantity = 5"
   ]
  },
  {
   "cell_type": "markdown",
   "id": "e1885253-9b84-43de-9656-5535258b8445",
   "metadata": {},
   "source": [
    "A better way is to initate a class is to assign an attribute in the init method\n"
   ]
  },
  {
   "cell_type": "code",
   "execution_count": 49,
   "id": "f9ed6ac7-39f5-4870-b03a-6d8ed3977064",
   "metadata": {
    "tags": []
   },
   "outputs": [],
   "source": [
    "# a way to initate a class and assign an attribute, we add it in the init method\n",
    "class Item_init:\n",
    "\n",
    "    def __init__(self, name, price, quantity=0):\n",
    "        self.name = name\n",
    "        self.price = price\n",
    "        self.quantity = quantity\n",
    "        print(f\"An instance is created: {name} of {price} with {quantity} units\")\n",
    "        \n",
    "    def calculate_total_price(self):   # now, there is no need to input x,y since self has the price and quantity attributes in itself\n",
    "        return self.price * self.quantity\n",
    "        "
   ]
  },
  {
   "cell_type": "code",
   "execution_count": 47,
   "id": "d4b62a76-0f94-48e9-a6aa-768ca2a92d3f",
   "metadata": {
    "tags": []
   },
   "outputs": [
    {
     "name": "stdout",
     "output_type": "stream",
     "text": [
      "An instance is created: Phone of 100 with 5 units\n"
     ]
    }
   ],
   "source": [
    "item2 = Item_init(\"Phone\", 100, 5)"
   ]
  },
  {
   "cell_type": "code",
   "execution_count": 37,
   "id": "c00be497-3cc8-4f13-afa7-8a742b89ff8c",
   "metadata": {
    "tags": []
   },
   "outputs": [],
   "source": [
    "# you can add attributes after initiating instances\n",
    "\n",
    "item2.has_numpad = False"
   ]
  },
  {
   "cell_type": "code",
   "execution_count": 48,
   "id": "7348a02f-d10f-487d-a178-22a695f95e75",
   "metadata": {
    "tags": []
   },
   "outputs": [
    {
     "data": {
      "text/plain": [
       "500"
      ]
     },
     "execution_count": 48,
     "metadata": {},
     "output_type": "execute_result"
    }
   ],
   "source": [
    "item2.calculate_total_price()"
   ]
  },
  {
   "cell_type": "code",
   "execution_count": 50,
   "id": "95975537-9057-4325-87e6-cad572de038b",
   "metadata": {
    "tags": []
   },
   "outputs": [
    {
     "name": "stdout",
     "output_type": "stream",
     "text": [
      "An instance is created: Phone of 100 with 5 units\n"
     ]
    }
   ],
   "source": [
    "item2 = Item_init(\"Phone\", \"100\", 5)"
   ]
  },
  {
   "cell_type": "code",
   "execution_count": 51,
   "id": "9399788f-a8e5-4d83-a941-ffeb8c9fa69e",
   "metadata": {
    "tags": []
   },
   "outputs": [
    {
     "data": {
      "text/plain": [
       "'100100100100100'"
      ]
     },
     "execution_count": 51,
     "metadata": {},
     "output_type": "execute_result"
    }
   ],
   "source": [
    "item2.calculate_total_price()"
   ]
  },
  {
   "cell_type": "markdown",
   "id": "8250217c-9b7d-4bf8-8cea-268fe18c2bac",
   "metadata": {},
   "source": [
    "### Assert"
   ]
  },
  {
   "cell_type": "markdown",
   "id": "26ac7f13-2831-454e-9445-ab3922c04978",
   "metadata": {},
   "source": [
    "Since the input price is a string, the output function produces a string instead of integer.\n",
    "\n",
    "We have to define the conditions for attributes: \n",
    "    - type (name:str)\n",
    "    - validation (assert price >= 0)"
   ]
  },
  {
   "cell_type": "code",
   "execution_count": 54,
   "id": "f6cae18e-4ce4-4d57-bb0e-9532584994a6",
   "metadata": {
    "tags": []
   },
   "outputs": [],
   "source": [
    "# a way to initate a class and assign an attribute, we add it in the init method\n",
    "class Item_init:\n",
    "\n",
    "    def __init__(self, name: str, price: float, quantity=0):\n",
    "        # Run validation to the received arguments\n",
    "        assert price >= 0, f\"Price {price} is not greated or equal to zero!\"\n",
    "        \n",
    "        # Assign to the self level\n",
    "        self.name = name\n",
    "        self.price = price\n",
    "        self.quantity = quantity\n",
    "                \n",
    "    def calculate_total_price(self):   # now, there is no need to input x,y since self has the price and quantity attributes in itself\n",
    "        return self.price * self.quantity"
   ]
  },
  {
   "cell_type": "code",
   "execution_count": 56,
   "id": "ddf5aa2d-7bac-40cc-83cd-c85576c25015",
   "metadata": {
    "tags": []
   },
   "outputs": [
    {
     "ename": "AssertionError",
     "evalue": "Price -5 is not greated or equal to zero!",
     "output_type": "error",
     "traceback": [
      "\u001b[1;31m---------------------------------------------------------------------------\u001b[0m",
      "\u001b[1;31mAssertionError\u001b[0m                            Traceback (most recent call last)",
      "Cell \u001b[1;32mIn[56], line 1\u001b[0m\n\u001b[1;32m----> 1\u001b[0m item2 \u001b[38;5;241m=\u001b[39m Item_init(\u001b[38;5;124m\"\u001b[39m\u001b[38;5;124mPhone\u001b[39m\u001b[38;5;124m\"\u001b[39m, \u001b[38;5;241m-\u001b[39m\u001b[38;5;241m5\u001b[39m, \u001b[38;5;241m5\u001b[39m)\n",
      "Cell \u001b[1;32mIn[54], line 6\u001b[0m, in \u001b[0;36mItem_init.__init__\u001b[1;34m(self, name, price, quantity)\u001b[0m\n\u001b[0;32m      4\u001b[0m \u001b[38;5;28;01mdef\u001b[39;00m \u001b[38;5;21m__init__\u001b[39m(\u001b[38;5;28mself\u001b[39m, name: \u001b[38;5;28mstr\u001b[39m, price: \u001b[38;5;28mfloat\u001b[39m, quantity\u001b[38;5;241m=\u001b[39m\u001b[38;5;241m0\u001b[39m):\n\u001b[0;32m      5\u001b[0m     \u001b[38;5;66;03m# Run validation to the received arguments\u001b[39;00m\n\u001b[1;32m----> 6\u001b[0m     \u001b[38;5;28;01massert\u001b[39;00m price \u001b[38;5;241m>\u001b[39m\u001b[38;5;241m=\u001b[39m \u001b[38;5;241m0\u001b[39m, \u001b[38;5;124mf\u001b[39m\u001b[38;5;124m\"\u001b[39m\u001b[38;5;124mPrice \u001b[39m\u001b[38;5;132;01m{\u001b[39;00mprice\u001b[38;5;132;01m}\u001b[39;00m\u001b[38;5;124m is not greated or equal to zero!\u001b[39m\u001b[38;5;124m\"\u001b[39m\n\u001b[0;32m      8\u001b[0m     \u001b[38;5;28mself\u001b[39m\u001b[38;5;241m.\u001b[39mname \u001b[38;5;241m=\u001b[39m name\n\u001b[0;32m      9\u001b[0m     \u001b[38;5;28mself\u001b[39m\u001b[38;5;241m.\u001b[39mprice \u001b[38;5;241m=\u001b[39m price\n",
      "\u001b[1;31mAssertionError\u001b[0m: Price -5 is not greated or equal to zero!"
     ]
    }
   ],
   "source": [
    "item2 = Item_init(\"Phone\", -5, 5)"
   ]
  },
  {
   "cell_type": "markdown",
   "id": "7e8ccf4a-6918-405e-893a-c33de7a8741c",
   "metadata": {},
   "source": [
    "### Class attributes\n",
    "\n",
    "Attributes that are shared across all the instances of the class. You can also access those attributes from the class.\n",
    "Those are define in the beginning of the class.\n",
    "\n",
    "Once called, the class is searching for the attribute within the self, if not found, it searches on the class level."
   ]
  },
  {
   "cell_type": "code",
   "execution_count": 57,
   "id": "b8ff96e3-a395-4b6a-88ba-1a414ed5c2b7",
   "metadata": {
    "tags": []
   },
   "outputs": [],
   "source": [
    "class Item_init:\n",
    "    pay_rate = 0.8   # pay rate after the discount\n",
    "    \n",
    "    def __init__(self, name: str, price: float, quantity=0):\n",
    "        # Run validation to the received arguments\n",
    "        assert price >= 0, f\"Price {price} is not greated or equal to zero!\"\n",
    "        \n",
    "        # Assign to the self level\n",
    "        self.name = name"
   ]
  },
  {
   "cell_type": "code",
   "execution_count": 62,
   "id": "2814ae2f-32be-45f0-a3de-03729715d2ad",
   "metadata": {
    "tags": []
   },
   "outputs": [
    {
     "name": "stdout",
     "output_type": "stream",
     "text": [
      "{'__module__': '__main__', 'pay_rate': 0.8, '__init__': <function Item_init.__init__ at 0x0000023FF9607C40>, '__dict__': <attribute '__dict__' of 'Item_init' objects>, '__weakref__': <attribute '__weakref__' of 'Item_init' objects>, '__doc__': None}\n"
     ]
    }
   ],
   "source": [
    "# to check all the attributes to the class\n",
    "print(Item_init.__dict__)"
   ]
  },
  {
   "cell_type": "code",
   "execution_count": 61,
   "id": "e84cf317-2f85-490f-acd8-b68a82eb5a92",
   "metadata": {
    "tags": []
   },
   "outputs": [
    {
     "name": "stdout",
     "output_type": "stream",
     "text": [
      "{'name': 'Phone', 'price': '100', 'quantity': 5}\n"
     ]
    }
   ],
   "source": [
    "# to check all the attributes to self within the class\n",
    "print(item2.__dict__)"
   ]
  },
  {
   "cell_type": "markdown",
   "id": "621a6f0c-0e05-4904-90a5-84f0b588ec3a",
   "metadata": {},
   "source": [
    "If we call the class attribute as follow: \n",
    "    \n",
    "    -   Class.Attribute within the methods in the class, then any change of the attribute in the instance will not have an effect in the methods, the attribute will stay the same.\n",
    "    \n",
    "    -   self.Attribute, then any change for the instances will be recorded. "
   ]
  },
  {
   "cell_type": "code",
   "execution_count": 4,
   "id": "5a603c68-7dfe-4142-800e-99b725d7c3f7",
   "metadata": {
    "tags": []
   },
   "outputs": [],
   "source": [
    "class Item:\n",
    "    pay_rate = 0.8   # pay rate after the discount\n",
    "    \n",
    "    def __init__(self, name: str, price: float, quantity=0):\n",
    "        # Run validation to the received arguments\n",
    "        assert price >= 0, f\"Price {price} is not greated or equal to zero!\"\n",
    "        \n",
    "        # Assign to the self level\n",
    "        self.name = name\n",
    "        self.price = price\n",
    "        self.quantity = quantity\n",
    "    \n",
    "    def calculate_total_price(self):   \n",
    "        return self.price * self.quantity\n",
    "        \n",
    "    def apply_discount(self):\n",
    "        self.price = self.price * self.pay_rate   # If we want to call class attribute would be: Item.pay_rate"
   ]
  },
  {
   "cell_type": "markdown",
   "id": "9b53c694-c006-421a-9c14-5ab584499a40",
   "metadata": {},
   "source": [
    "In order to create a list of instances created of the class, we can do the following:\n",
    "\n",
    "    - add an empty list in the class attributes:  all=[]\n",
    "    - add a command in the __init__: Class.all.append(self)"
   ]
  },
  {
   "cell_type": "code",
   "execution_count": 6,
   "id": "baa08d55-5251-4aca-8c0b-1227638e21d1",
   "metadata": {
    "tags": []
   },
   "outputs": [],
   "source": [
    "class Item:\n",
    "    pay_rate = 0.8   # pay rate after the discount\n",
    "    all = []\n",
    "    def __init__(self, name: str, price: float, quantity=0):\n",
    "        # Run validation to the received arguments\n",
    "        assert price >= 0, f\"Price {price} is not greated or equal to zero!\"\n",
    "        \n",
    "        # Assign to the self level\n",
    "        self.name = name\n",
    "        self.price = price\n",
    "        self.quantity = quantity\n",
    "        \n",
    "        # Actions to execute\n",
    "        Item.all.append(self)\n",
    "        \n",
    "    def calculate_total_price(self):   \n",
    "        return self.price * self.quantity\n",
    "        \n",
    "    def apply_discount(self):\n",
    "        self.price = self.price * self.pay_rate   # If we want to call class attribute would be: Item.pay_rate"
   ]
  },
  {
   "cell_type": "code",
   "execution_count": 7,
   "id": "0a969a75-6cd1-4d12-95bf-847dbf073603",
   "metadata": {},
   "outputs": [],
   "source": [
    "item1 = Item(\"Phone\", 100,1)\n",
    "item2 = Item(\"Laptop\", 1000,3)\n",
    "item3 = Item(\"Cable\", 10,5)\n",
    "item4 = Item(\"Mouse\", 50,5)\n",
    "item5 = Item(\"Keyboard\", 75,5)"
   ]
  },
  {
   "cell_type": "code",
   "execution_count": 9,
   "id": "5ed86b5e-e927-43ea-8a58-bf5e8c2097a1",
   "metadata": {
    "tags": []
   },
   "outputs": [
    {
     "name": "stdout",
     "output_type": "stream",
     "text": [
      "[<__main__.Item object at 0x0000019060737AD0>, <__main__.Item object at 0x000001905FA95AD0>, <__main__.Item object at 0x000001905FA95210>, <__main__.Item object at 0x000001905FA966D0>, <__main__.Item object at 0x000001905FA94850>]\n"
     ]
    }
   ],
   "source": [
    "# Print all instances of Item\n",
    "print(Item.all)"
   ]
  },
  {
   "cell_type": "code",
   "execution_count": 10,
   "id": "86d3728b-0afe-42da-b08d-c83d1abecbcc",
   "metadata": {
    "tags": []
   },
   "outputs": [
    {
     "name": "stdout",
     "output_type": "stream",
     "text": [
      "Phone\n",
      "Laptop\n",
      "Cable\n",
      "Mouse\n",
      "Keyboard\n"
     ]
    }
   ],
   "source": [
    "for instance in Item.all:\n",
    "    print(instance.name)"
   ]
  },
  {
   "cell_type": "markdown",
   "id": "09ead923-07dd-4a3f-a013-89b252bc10a6",
   "metadata": {},
   "source": [
    "### __ repr __\n",
    "\n",
    "A magic method to represent a new object. We use it to print out the instances with it's attributes. \n",
    "\n",
    "The best practice is to represent it as it is created: return f\"Class('{self.attribute}',...)\n",
    "\n",
    "This is recommended by Python, since it can easily be copied and paste in the code."
   ]
  },
  {
   "cell_type": "code",
   "execution_count": 11,
   "id": "09267d99-0866-457f-b0b5-36c637b21897",
   "metadata": {
    "tags": []
   },
   "outputs": [],
   "source": [
    "class Item:\n",
    "    pay_rate = 0.8   # pay rate after the discount\n",
    "    all = []\n",
    "    def __init__(self, name: str, price: float, quantity=0):\n",
    "        # Run validation to the received arguments\n",
    "        assert price >= 0, f\"Price {price} is not greated or equal to zero!\"\n",
    "        \n",
    "        # Assign to the self level\n",
    "        self.name = name\n",
    "        self.price = price\n",
    "        self.quantity = quantity\n",
    "        \n",
    "        # Actions to execute\n",
    "        Item.all.append(self)\n",
    "        \n",
    "    def calculate_total_price(self):   \n",
    "        return self.price * self.quantity\n",
    "        \n",
    "    def apply_discount(self):\n",
    "        self.price = self.price * self.pay_rate\n",
    "        \n",
    "    def __repr__(self):\n",
    "        return f\"Item('{self.name}', {self.price}, {self.quantity})\""
   ]
  },
  {
   "cell_type": "code",
   "execution_count": 13,
   "id": "c069a17e-688a-4e6a-b5cc-454a3a3b12c4",
   "metadata": {
    "tags": []
   },
   "outputs": [
    {
     "name": "stdout",
     "output_type": "stream",
     "text": [
      "[Item('Phone', 100, 1), Item('Laptop', 1000, 3), Item('Cable', 10, 5), Item('Mouse', 50, 5), Item('Keyboard', 75, 5)]\n"
     ]
    }
   ],
   "source": [
    "item1 = Item(\"Phone\", 100,1)\n",
    "item2 = Item(\"Laptop\", 1000,3)\n",
    "item3 = Item(\"Cable\", 10,5)\n",
    "item4 = Item(\"Mouse\", 50,5)\n",
    "item5 = Item(\"Keyboard\", 75,5)\n",
    "\n",
    "print(Item.all)"
   ]
  },
  {
   "cell_type": "markdown",
   "id": "ea798746-1b64-4e32-8383-f6f5027d6d00",
   "metadata": {},
   "source": [
    "## 2. Class vs Static method"
   ]
  },
  {
   "cell_type": "markdown",
   "id": "3ea0a469-2304-403a-a8aa-e5b70b13921c",
   "metadata": {},
   "source": [
    "### Class methods"
   ]
  },
  {
   "cell_type": "markdown",
   "id": "f843250a-1ee9-4439-9beb-8d82b9713607",
   "metadata": {},
   "source": [
    "Class methods can only be instatiated only from the class itself. That is the reason for removing self from the attribute in the method.\n",
    "\n",
    "In order to convert a method into a class method  we need to use a decorator (@classmethod) just before the method in the class.\n",
    "\n",
    "We also need to pass the class reference as an attribute (cls):"
   ]
  },
  {
   "cell_type": "markdown",
   "id": "d6fcf711-9db0-494d-97d2-7b954c9eea62",
   "metadata": {},
   "source": [
    "Here we want to read the instances from a csv file. That's why we will create a classmethod that will read a csv file and import rows as instances."
   ]
  },
  {
   "cell_type": "code",
   "execution_count": 25,
   "id": "9638467a-ada0-4151-8b22-14dc62cfaf12",
   "metadata": {
    "tags": []
   },
   "outputs": [],
   "source": [
    "import csv\n",
    "\n",
    "class Item:\n",
    "    pay_rate = 0.8   # pay rate after the discount\n",
    "    all = []\n",
    "    def __init__(self, name: str, price: float, quantity=0):\n",
    "        # Run validation to the received arguments\n",
    "        assert price >= 0, f\"Price {price} is not greated or equal to zero!\"\n",
    "        \n",
    "        # Assign to the self level\n",
    "        self.name = name\n",
    "        self.price = price\n",
    "        self.quantity = quantity\n",
    "        \n",
    "        # Actions to execute\n",
    "        Item.all.append(self)\n",
    "        \n",
    "    def calculate_total_price(self):   \n",
    "        return self.price * self.quantity\n",
    "    \n",
    "    @classmethod\n",
    "    def instantiate_from_csv(cls):\n",
    "        with open('items.csv', 'r') as f:\n",
    "            reader = csv.DictReader(f)\n",
    "            items = list(reader)\n",
    "            \n",
    "            for item in items:\n",
    "                # print(item)\n",
    "                Item(\n",
    "                    name=item.get('name'),\n",
    "                    # we need to add int, so it reads it as int, not string. otherwise it will give a TypeError\n",
    "                    price=float(item.get('price')),                     \n",
    "                    quantity=int(item.get('quantity')),\n",
    "                )\n",
    "    def apply_discount(self):\n",
    "        self.price = self.price * self.pay_rate\n",
    "        \n",
    "    def __repr__(self):\n",
    "        return f\"Item('{self.name}', {self.price}, {self.quantity})\""
   ]
  },
  {
   "cell_type": "code",
   "execution_count": 19,
   "id": "12e7a61e-a1a6-40f1-88ff-cfd2df486017",
   "metadata": {
    "tags": []
   },
   "outputs": [
    {
     "name": "stdout",
     "output_type": "stream",
     "text": [
      "{'name': 'Phone', 'price': '100', 'quantity': '1'}\n",
      "{'name': 'Laptop', 'price': '1000', 'quantity': '3'}\n",
      "{'name': 'Cable', 'price': '10', 'quantity': '5'}\n",
      "{'name': 'Mouse', 'price': '50', 'quantity': '5'}\n",
      "{'name': 'Keyboard', 'price': '75', 'quantity': '5'}\n"
     ]
    }
   ],
   "source": [
    "Item.instantiate_from_csv()"
   ]
  },
  {
   "cell_type": "code",
   "execution_count": 26,
   "id": "5d9ba9b8-e3dd-4102-bf11-5499b9437e59",
   "metadata": {
    "tags": []
   },
   "outputs": [
    {
     "name": "stdout",
     "output_type": "stream",
     "text": [
      "[Item('Phone', 100.0, 1), Item('Laptop', 1000.0, 3), Item('Cable', 10.0, 5), Item('Mouse', 50.0, 5), Item('Keyboard', 75.0, 5)]\n"
     ]
    }
   ],
   "source": [
    "Item.instantiate_from_csv()\n",
    "print(Item.all)"
   ]
  },
  {
   "cell_type": "markdown",
   "id": "8051dd4b-efc4-490a-b1a4-1055cbed4822",
   "metadata": {},
   "source": [
    "### Static method"
   ]
  },
  {
   "cell_type": "markdown",
   "id": "497061a3-e52b-465d-8824-372324c53ccd",
   "metadata": {},
   "source": [
    "A static method is used when the method is not unique per instance, but it is somehow related to the class. This is similar to a function written outside of the class. But these methods can also be called from the instances itself.\n",
    "\n",
    "Static methods never send the object (self) in the backgroud as the parameter. This is the main difference between class and static methods.\n",
    "\n",
    "To call it, we will use a decorator called @staticmethod"
   ]
  },
  {
   "cell_type": "markdown",
   "id": "36584354-7899-4270-b801-cb82c9dd9550",
   "metadata": {},
   "source": [
    "We will write a static method that will check if a received number is an integer or not."
   ]
  },
  {
   "cell_type": "code",
   "execution_count": 80,
   "id": "af48a88e-2153-4a9b-9e2e-8b3c8a6278c5",
   "metadata": {
    "tags": []
   },
   "outputs": [],
   "source": [
    "import csv\n",
    "\n",
    "class Item:\n",
    "    pay_rate = 0.8   # pay rate after the discount\n",
    "    all = []\n",
    "    def __init__(self, name: str, price: float, quantity=0):\n",
    "        # Run validation to the received arguments\n",
    "        assert price >= 0, f\"Price {price} is not greated or equal to zero!\"\n",
    "        \n",
    "        # Assign to the self level\n",
    "        self.__name = name\n",
    "        self.__price = price\n",
    "        self.quantity = quantity\n",
    "        \n",
    "        # Actions to execute\n",
    "        Item.all.append(self)\n",
    "        \n",
    "    def calculate_total_price(self):   \n",
    "        return self.__price * self.quantity\n",
    "    \n",
    "    @classmethod\n",
    "    def instantiate_from_csv(cls):\n",
    "        with open('items.csv', 'r') as f:\n",
    "            reader = csv.DictReader(f)\n",
    "            items = list(reader)\n",
    "            \n",
    "            for item in items:\n",
    "                # print(item)\n",
    "                Item(\n",
    "                    name=item.get('name'),\n",
    "                    # we need to add int, so it reads it as int, not string. otherwise it will give a TypeError\n",
    "                    price=float(item.get('price')),                     \n",
    "                    quantity=int(item.get('quantity')),\n",
    "                )\n",
    "    def apply_discount(self):\n",
    "        self.__price = self.__price * self.pay_rate\n",
    "        \n",
    "    @staticmethod\n",
    "    def is_integer(num):\n",
    "        # We will count out the floats that are point zero; for i.e.: 5.0, 10.0\n",
    "        if isinstance(num, float):\n",
    "            # Count out the floats that are point zero\n",
    "            return num.is_integer()\n",
    "        # check if num is integer\n",
    "        elif isinstance(num, int):\n",
    "            return True\n",
    "        else:\n",
    "            return False\n",
    "        \n",
    "    def __repr__(self):\n",
    "        return f\"{self.__class__.__name__}('{self.name}', {self.price}, {self.quantity})\"\n",
    "    \n",
    "    @property\n",
    "    # Property Decorator = Read-Only attribute\n",
    "    def name(self):\n",
    "        return self.__name\n",
    "    \n",
    "    @name.setter\n",
    "    def name(self, value):\n",
    "        if len(value) > 10:\n",
    "            raise Exception(\"The name is too long\")\n",
    "        else:\n",
    "            self.__name = value\n",
    "            \n",
    "    @property\n",
    "    def price(self):\n",
    "        return self.__price\n",
    "    \n",
    "    def apply_increament(self,inc_rate):\n",
    "        self.__price = self.__price + self.__price * inc_rate\n",
    "        "
   ]
  },
  {
   "cell_type": "code",
   "execution_count": 29,
   "id": "676dc8a5-01cb-4df1-b32c-36f303d80bb7",
   "metadata": {
    "tags": []
   },
   "outputs": [
    {
     "name": "stdout",
     "output_type": "stream",
     "text": [
      "True\n"
     ]
    }
   ],
   "source": [
    "print(Item.is_integer(7.0))"
   ]
  },
  {
   "cell_type": "markdown",
   "id": "0f6f3094-1f4a-46d5-be54-a4a6c0371696",
   "metadata": {},
   "source": [
    "## Inheritance"
   ]
  },
  {
   "cell_type": "markdown",
   "id": "fcd02cdc-0058-4699-93da-5c92b38b968a",
   "metadata": {},
   "source": [
    "To create a separate class that can inherite all the methods and attributes from another class. The original class is called Parent class, and the new class is called Child class.\n",
    "\n",
    "class Child_Class(Parent_Class):\n",
    "\n",
    "\n",
    "It is used to create a class that is similar to the parent class, but is more specific."
   ]
  },
  {
   "cell_type": "code",
   "execution_count": 38,
   "id": "f44a1b61-55ca-4051-a206-708c5391447b",
   "metadata": {
    "tags": []
   },
   "outputs": [],
   "source": [
    "class Phone(Item):\n",
    "    all=[]\n",
    "    \n",
    "    def __init__(self, name: str, price: float, quantity=0, broken_phone=0):\n",
    "        # Run validation to the received arguments\n",
    "        assert price >= 0, f\"Price {price} is not greated or equal to zero!\"\n",
    "        assert quantity >= 0, f\"Quantity {quantity} is not greated or equal to zero!\"\n",
    "        assert broken_phone >= 0, f\"Broken {broken_phone} is not greated or equal to zero!\"\n",
    "        \n",
    "        # Assign to the self level\n",
    "        self.name = name\n",
    "        self.price = price\n",
    "        self.quantity = quantity\n",
    "        self.broken_phone = broken_phone\n",
    "        \n",
    "        # Actions to execute\n",
    "        Phone.all.append(self)\n",
    "  "
   ]
  },
  {
   "cell_type": "code",
   "execution_count": 49,
   "id": "9e97592b-8912-4cc8-b0f1-d47f98929643",
   "metadata": {
    "tags": []
   },
   "outputs": [
    {
     "data": {
      "text/plain": [
       "2500"
      ]
     },
     "execution_count": 49,
     "metadata": {},
     "output_type": "execute_result"
    }
   ],
   "source": [
    "phone1 = Phone(\"jscPhonev10\", 500, 5)\n",
    "phone1.broken_phone = 1\n",
    "phone1.calculate_total_price()"
   ]
  },
  {
   "cell_type": "markdown",
   "id": "c2ae67b9-4865-40d6-957d-ea62bb87f575",
   "metadata": {},
   "source": [
    "### Super function"
   ]
  },
  {
   "cell_type": "markdown",
   "id": "e45a7f07-bc3b-494e-aeb3-03bc92890eda",
   "metadata": {},
   "source": [
    "It serves to inherite all the functions and attributes from the parent class and use it in the child class without copying the code. These are the best practices for minimizing the code.\n",
    "\n",
    "It is called in the __init__ method as follows:\n",
    "    \n",
    "    super().__init__(special_arguments_from_parent_class)"
   ]
  },
  {
   "cell_type": "code",
   "execution_count": 86,
   "id": "51974081-66c2-4a2f-85bd-8d9014faa47c",
   "metadata": {
    "tags": []
   },
   "outputs": [],
   "source": [
    "class Phone(Item):   \n",
    "    def __init__(self, name: str, price: float, quantity=0, broken_phone=0):\n",
    "        # Call to super function to have access to all attributes / methods\n",
    "        super().__init__(\n",
    "            name, price, quantity \n",
    "        )   \n",
    "        # Run validation to the received arguments\n",
    "        assert broken_phone >= 0, f\"Broken {broken_phone} is not greated or equal to zero!\"\n",
    "        \n",
    "        # Assign to the self level\n",
    "        self.broken_phone = broken_phone"
   ]
  },
  {
   "cell_type": "code",
   "execution_count": 56,
   "id": "91b19a9a-47ed-439d-a22d-c33382cde8d7",
   "metadata": {
    "tags": []
   },
   "outputs": [
    {
     "data": {
      "text/plain": [
       "2500"
      ]
     },
     "execution_count": 56,
     "metadata": {},
     "output_type": "execute_result"
    }
   ],
   "source": [
    "phone1 = Phone(\"jscPhonev10\", 500, 5)\n",
    "phone1.broken_phone = 1\n",
    "phone1.calculate_total_price()"
   ]
  },
  {
   "cell_type": "code",
   "execution_count": 52,
   "id": "80d73dda-6e25-487b-8dfb-3392d1b7f345",
   "metadata": {
    "tags": []
   },
   "outputs": [
    {
     "name": "stdout",
     "output_type": "stream",
     "text": [
      "[Item('jscPhonev10', 500, 5)]\n",
      "[Item('jscPhonev10', 500, 5)]\n"
     ]
    }
   ],
   "source": [
    "print(Item.all)\n",
    "print(Phone.all)"
   ]
  },
  {
   "cell_type": "markdown",
   "id": "926d647d-09c2-4f8d-87a0-af980934c6b2",
   "metadata": {},
   "source": [
    "To fix this we have to rewrite the __repr__ method in the parent class by adding:\n",
    "    \n",
    "    {self.__class__.__name__}"
   ]
  },
  {
   "cell_type": "code",
   "execution_count": 57,
   "id": "f651f7de-02c5-4d2e-8d6e-5576caafdc8a",
   "metadata": {
    "tags": []
   },
   "outputs": [
    {
     "name": "stdout",
     "output_type": "stream",
     "text": [
      "[Phone('jscPhonev10', 500, 5)]\n",
      "[Phone('jscPhonev10', 500, 5)]\n"
     ]
    }
   ],
   "source": [
    "print(Item.all)\n",
    "print(Phone.all)"
   ]
  },
  {
   "cell_type": "markdown",
   "id": "81568f90-019b-4700-9288-509c41cc4c14",
   "metadata": {},
   "source": [
    "### Class saving into separate files"
   ]
  },
  {
   "cell_type": "markdown",
   "id": "8b2e0d6a-ca38-4e09-b31b-42bd8a801106",
   "metadata": {},
   "source": [
    "To organize the code properly, each class should be in a separate file called the same as the name class (ie. item.py).\n",
    "\n",
    "In the child classes, one should import the parent class as follow:\n",
    "\n",
    "    from item import Item"
   ]
  },
  {
   "cell_type": "markdown",
   "id": "b8f1f558-f137-467e-a80f-288760269a48",
   "metadata": {},
   "source": [
    "Then in the main.py you import all the classes as packages and just run the code."
   ]
  },
  {
   "cell_type": "markdown",
   "id": "f8fc9880-2621-4510-8117-1cfbfcbb1a6b",
   "metadata": {},
   "source": [
    "## 3. Getters and Setters"
   ]
  },
  {
   "cell_type": "markdown",
   "id": "8ed5212c-dea3-47b8-935b-7d76d5ff8c03",
   "metadata": {},
   "source": [
    "In order to make an attribute that is read-only and cannot be changed once it is created, we need to add a decorator called property. (also called Encapsulation)\n",
    "\n",
    "It is done in the class with a decorator property and an _ in the name of the attribute:\n",
    "\n",
    "    @property\n",
    "    def name(self):\n",
    "        return self.__name\n",
    "        \n",
    "One also needs to add __ in the assign part of the object"
   ]
  },
  {
   "cell_type": "markdown",
   "id": "5a39f2a5-50f8-4538-b88d-41a7f3c51c25",
   "metadata": {},
   "source": [
    "### Getter"
   ]
  },
  {
   "cell_type": "code",
   "execution_count": 70,
   "id": "baaaac83-fc78-4af2-8237-2b8212a54fd9",
   "metadata": {
    "tags": []
   },
   "outputs": [
    {
     "name": "stdout",
     "output_type": "stream",
     "text": [
      "MyItem\n"
     ]
    },
    {
     "ename": "AttributeError",
     "evalue": "property 'name' of 'Item' object has no setter",
     "output_type": "error",
     "traceback": [
      "\u001b[1;31m---------------------------------------------------------------------------\u001b[0m",
      "\u001b[1;31mAttributeError\u001b[0m                            Traceback (most recent call last)",
      "Cell \u001b[1;32mIn[70], line 3\u001b[0m\n\u001b[0;32m      1\u001b[0m item1 \u001b[38;5;241m=\u001b[39m Item(\u001b[38;5;124m\"\u001b[39m\u001b[38;5;124mMyItem\u001b[39m\u001b[38;5;124m\"\u001b[39m, \u001b[38;5;241m700\u001b[39m)\n\u001b[0;32m      2\u001b[0m \u001b[38;5;28mprint\u001b[39m(item1\u001b[38;5;241m.\u001b[39mname)\n\u001b[1;32m----> 3\u001b[0m item1\u001b[38;5;241m.\u001b[39mname \u001b[38;5;241m=\u001b[39m \u001b[38;5;124m\"\u001b[39m\u001b[38;5;124mOtherName\u001b[39m\u001b[38;5;124m\"\u001b[39m\n",
      "\u001b[1;31mAttributeError\u001b[0m: property 'name' of 'Item' object has no setter"
     ]
    }
   ],
   "source": [
    "item1 = Item(\"MyItem\", 700)\n",
    "# Getting an Attribute\n",
    "print(item1.name)\n",
    "item1.name = \"OtherName\""
   ]
  },
  {
   "cell_type": "code",
   "execution_count": 69,
   "id": "c5ed9a4b-ff19-4451-a882-556cb3cefa95",
   "metadata": {
    "tags": []
   },
   "outputs": [
    {
     "name": "stdout",
     "output_type": "stream",
     "text": [
      "MyItem\n"
     ]
    }
   ],
   "source": [
    "print(item1.name)"
   ]
  },
  {
   "cell_type": "markdown",
   "id": "25cb573f-1b4b-4bbb-9ae4-9c48e18e6427",
   "metadata": {},
   "source": [
    "### Setter"
   ]
  },
  {
   "cell_type": "markdown",
   "id": "799eced7-0aae-49ec-8961-964b043b349c",
   "metadata": {},
   "source": [
    "If we want to give access to set a new value to an attribute that has property, we use setters, as follows:\n",
    "\n",
    "    @attribute.setter\n",
    "    def attribute(self, value):\n",
    "        self.__attribute = value\n",
    "        "
   ]
  },
  {
   "cell_type": "code",
   "execution_count": 73,
   "id": "7296cea7-d06d-45c2-b582-fb0725f91a2e",
   "metadata": {
    "tags": []
   },
   "outputs": [
    {
     "name": "stdout",
     "output_type": "stream",
     "text": [
      "OtherName\n"
     ]
    }
   ],
   "source": [
    "item1 = Item(\"MyItem\", 700)\n",
    "item1.name = \"OtherName\"\n",
    "print(item1.name)"
   ]
  },
  {
   "cell_type": "markdown",
   "id": "20dd49aa-1cb1-470a-bc98-305dd0c3108e",
   "metadata": {},
   "source": [
    "Here you can play with the value setting, within the setter function.\n",
    "\n",
    "    if len(value) > 10:\n",
    "        raise Exception(\"The name is too long\")\n",
    "    else:\n",
    "        self.__name = value"
   ]
  },
  {
   "cell_type": "markdown",
   "id": "a8f674f7-2f78-4509-8932-4df5f2ccbcee",
   "metadata": {},
   "source": [
    "## 4. OOP key principles"
   ]
  },
  {
   "cell_type": "markdown",
   "id": "40bdb071-2d78-4c82-9cc1-0dcd583093ea",
   "metadata": {},
   "source": [
    "4 key principles of OOP are:\n",
    "    \n",
    "    - Encapsulation\n",
    "    - Abstraction\n",
    "    - Inheritance\n",
    "    - Polymorphism"
   ]
  },
  {
   "cell_type": "markdown",
   "id": "c68c09da-c001-4bd2-8e33-20d9b93f5331",
   "metadata": {
    "tags": []
   },
   "source": [
    "### Encapsulation\n",
    "\n",
    "Is the restricting the direct access (ability) to some of the attributes in the class.\n",
    "\n",
    "The example above is setting the change of the name, or setting the rules for the change of values."
   ]
  },
  {
   "cell_type": "markdown",
   "id": "dfde80be-a8be-4cf9-8726-c523e538dc74",
   "metadata": {},
   "source": [
    "As mentioned above, it is code by changing all the calls to the attributes to __attribute and adding a decorator and :\n",
    "    \n",
    "    @property\n",
    "    def attribute(self):\n",
    "        return self.__attribute"
   ]
  },
  {
   "cell_type": "markdown",
   "id": "d447b5fe-f858-4ab6-aec8-b00cfe3c4fa3",
   "metadata": {},
   "source": [
    "The principle of Encapsulation is that the attribute will not be change directly, but it can be changed indirectly through other methods (like in this example of using method apply_increament)\n",
    "\n",
    "        def apply_increament(self,inc_rate):\n",
    "        self.__price = self.__price + self.__price * inc_rate\n",
    "        "
   ]
  },
  {
   "cell_type": "code",
   "execution_count": 82,
   "id": "1660501e-c025-449e-8294-6e1484c27485",
   "metadata": {
    "tags": []
   },
   "outputs": [
    {
     "name": "stdout",
     "output_type": "stream",
     "text": [
      "750\n"
     ]
    }
   ],
   "source": [
    "item1 = Item(\"MyItem\", 750)\n",
    "print(item1.price)"
   ]
  },
  {
   "cell_type": "code",
   "execution_count": 78,
   "id": "0e4e59c4-bf08-4fec-b2a5-c5ca11f09b7e",
   "metadata": {
    "tags": []
   },
   "outputs": [
    {
     "ename": "AttributeError",
     "evalue": "property 'price' of 'Item' object has no setter",
     "output_type": "error",
     "traceback": [
      "\u001b[1;31m---------------------------------------------------------------------------\u001b[0m",
      "\u001b[1;31mAttributeError\u001b[0m                            Traceback (most recent call last)",
      "Cell \u001b[1;32mIn[78], line 1\u001b[0m\n\u001b[1;32m----> 1\u001b[0m item1\u001b[38;5;241m.\u001b[39mprice \u001b[38;5;241m=\u001b[39m \u001b[38;5;241m500\u001b[39m\n",
      "\u001b[1;31mAttributeError\u001b[0m: property 'price' of 'Item' object has no setter"
     ]
    }
   ],
   "source": [
    "item1.price = 500"
   ]
  },
  {
   "cell_type": "code",
   "execution_count": 83,
   "id": "83addebb-3a02-418a-9174-680a9cd3f671",
   "metadata": {
    "tags": []
   },
   "outputs": [
    {
     "name": "stdout",
     "output_type": "stream",
     "text": [
      "900.0\n"
     ]
    }
   ],
   "source": [
    "item1.apply_increament(0.2)\n",
    "print(item1.price)"
   ]
  },
  {
   "cell_type": "markdown",
   "id": "57530166-5c65-4159-811d-bd467e735c2a",
   "metadata": {},
   "source": [
    "### Abstraction\n",
    "\n",
    "Is the concept that shows only necessary attributes and hides the unnecessary methods and attributes.\n",
    "\n",
    "This is done by adding __ in front of the name of the method in the class.\n",
    "\n",
    "example:\n",
    "\n",
    "    def __prep_body(self):\n",
    "        ...\n",
    "        \n",
    "    def __send(self):\n",
    "        ...\n",
    "        \n",
    "    def send_email(self):\n",
    "        self.__prep_body()\n",
    "        self.__send()\n",
    "\n",
    "In the code, only method .send_email() is visiable, others are hidden.\n",
    "\n",
    "In other languages this is usually done by adding private/public mark in front of the method, but in python it is done with the __"
   ]
  },
  {
   "cell_type": "markdown",
   "id": "a61f25ab-83d7-423f-bfbf-981a24d17ec8",
   "metadata": {},
   "source": [
    "### Inheritance\n",
    "\n",
    "Is a mechanism to reuse the code across the classes (parent, child class, etc.)"
   ]
  },
  {
   "cell_type": "code",
   "execution_count": 87,
   "id": "c4056d71-1718-4505-a675-bb98c9bd8f57",
   "metadata": {
    "tags": []
   },
   "outputs": [
    {
     "name": "stdout",
     "output_type": "stream",
     "text": [
      "900.0\n"
     ]
    }
   ],
   "source": [
    "item2 = Phone(\"MyPhone\", 750)\n",
    "item2.apply_increament(0.2)\n",
    "print(item2.price)"
   ]
  },
  {
   "cell_type": "markdown",
   "id": "6a8e6951-936a-40ab-983f-0f70d1125852",
   "metadata": {
    "tags": []
   },
   "source": [
    "### Polymorphism\n",
    "\n",
    "It refers to the ability of a method to be used in different scenerios or conditions.\n",
    "\n",
    "A perfect example is the len() built-in function, as it knows how to handle different type of objects.\n",
    "\n",
    "    len(\"name\")\n",
    "    > 4\n",
    "    \n",
    "    len([1,2,3])\n",
    "    > 3"
   ]
  },
  {
   "cell_type": "markdown",
   "id": "46f02299-ec7c-42b8-aa3d-c6878f774c95",
   "metadata": {},
   "source": []
  }
 ],
 "metadata": {
  "kernelspec": {
   "display_name": "Python 3 (ipykernel)",
   "language": "python",
   "name": "python3"
  },
  "language_info": {
   "codemirror_mode": {
    "name": "ipython",
    "version": 3
   },
   "file_extension": ".py",
   "mimetype": "text/x-python",
   "name": "python",
   "nbconvert_exporter": "python",
   "pygments_lexer": "ipython3",
   "version": "3.11.5"
  }
 },
 "nbformat": 4,
 "nbformat_minor": 5
}
