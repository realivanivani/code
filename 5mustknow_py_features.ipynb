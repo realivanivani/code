{
 "cells": [
  {
   "cell_type": "markdown",
   "id": "d56ab9f3-571a-4896-8c26-b96a230d52cc",
   "metadata": {},
   "source": [
    "## 1. Anonymous Variable\n",
    "\n",
    " _ \n",
    " "
   ]
  },
  {
   "cell_type": "markdown",
   "id": "f08696d1-2db2-4a80-a925-0be2c5dc0ec0",
   "metadata": {},
   "source": [
    "Whenever you are not using a variable there is no need to define it, so use _ instead"
   ]
  },
  {
   "cell_type": "code",
   "execution_count": 10,
   "id": "12457e6c-0945-4504-ad53-e2435ef38aad",
   "metadata": {
    "tags": []
   },
   "outputs": [],
   "source": [
    "list_of_pairs = [[\"a\",\"b\"],[\"c\",\"d\"],[\"e\",\"f\"]]"
   ]
  },
  {
   "cell_type": "code",
   "execution_count": null,
   "id": "4456587b-3490-4207-aabb-7976b1aed629",
   "metadata": {},
   "outputs": [],
   "source": [
    "for _ in range(10):\n",
    "    print(\"do this\")"
   ]
  },
  {
   "cell_type": "code",
   "execution_count": 12,
   "id": "28cefcd1-6859-4640-bc90-ff88979afebe",
   "metadata": {
    "tags": []
   },
   "outputs": [
    {
     "name": "stdout",
     "output_type": "stream",
     "text": [
      "['b', 'd', 'f']\n"
     ]
    }
   ],
   "source": [
    "second_elements = [b for _,b in list_of_pairs]\n",
    "print(second_elements)"
   ]
  },
  {
   "cell_type": "markdown",
   "id": "2eb67d1e-2aff-47c5-ac5e-f0eb3970f1d8",
   "metadata": {},
   "source": [
    "## 2. For/While Else\n",
    "\n",
    "else:"
   ]
  },
  {
   "cell_type": "markdown",
   "id": "198ab336-c4c1-4c90-9e70-ac4223614eee",
   "metadata": {},
   "source": [
    "If conditions in the loop dont match and the loop breaks, we can add an exit function"
   ]
  },
  {
   "cell_type": "code",
   "execution_count": 15,
   "id": "361f0680-82a8-4d54-b087-c36aa44bf0be",
   "metadata": {
    "tags": []
   },
   "outputs": [
    {
     "name": "stdout",
     "output_type": "stream",
     "text": [
      "found it\n"
     ]
    }
   ],
   "source": [
    "items = ['a','b','c','d','e']\n",
    "\n",
    "i = 0\n",
    "\n",
    "while i < len(items):\n",
    "    item = items[i]\n",
    "    \n",
    "    if item == \"b\":\n",
    "        print(\"found it\")\n",
    "        break\n",
    "        \n",
    "    i += 1\n",
    "else:\n",
    "    print(\"do something here\")"
   ]
  },
  {
   "cell_type": "markdown",
   "id": "058fbe14-0ef1-4bc0-a7a8-f38ed403c1f0",
   "metadata": {},
   "source": [
    "## 3. Walruse operator\n",
    "\n",
    ":="
   ]
  },
  {
   "cell_type": "code",
   "execution_count": 1,
   "id": "ed287dc2-b50f-4c86-8706-fc402def5675",
   "metadata": {
    "tags": []
   },
   "outputs": [],
   "source": [
    "def f(x):   # a function that perfoms some complex math and takes a lot of time\n",
    "    return x - 1\n",
    "\n",
    "# list comprehension\n",
    "results = [f(x) for x in range(10) if f(x) > 3]\n",
    "\n",
    "# using walrus operator\n",
    "results_walrus = [result for x in range(10) if (result := f(x)) > 3]\n",
    "\n",
    "## this way we dont call the function 2 times, just once"
   ]
  },
  {
   "cell_type": "markdown",
   "id": "c3ddc941-89e3-473d-85cf-b6d7bd4f14d5",
   "metadata": {},
   "source": [
    "## 4. Argument unpacking\n",
    "\n",
    "* \n",
    "\n",
    "works for any iterable object"
   ]
  },
  {
   "cell_type": "code",
   "execution_count": 2,
   "id": "22e91314-5682-4ffc-992e-d84fd8c9974f",
   "metadata": {
    "tags": []
   },
   "outputs": [
    {
     "name": "stdout",
     "output_type": "stream",
     "text": [
      "1 2 3 4\n"
     ]
    }
   ],
   "source": [
    "def numbers(a,b,c,d):\n",
    "    print(a,b,c,d)\n",
    "    \n",
    "lst = [1,2,3,4]\n",
    "\n",
    "numbers(*lst)"
   ]
  },
  {
   "cell_type": "code",
   "execution_count": 3,
   "id": "78218a5c-87fc-486d-988d-214c7bfb3a8a",
   "metadata": {
    "tags": []
   },
   "outputs": [
    {
     "name": "stdout",
     "output_type": "stream",
     "text": [
      "o k e y\n"
     ]
    }
   ],
   "source": [
    "lst = \"okey\"\n",
    "numbers(*lst)"
   ]
  },
  {
   "cell_type": "markdown",
   "id": "1cb9801b-accf-46a7-a52e-489e0c7ef000",
   "metadata": {},
   "source": [
    "works as well for dictionaries"
   ]
  },
  {
   "cell_type": "code",
   "execution_count": 4,
   "id": "7a61e8b0-a9b2-4c6a-9a6c-84b1288fbceb",
   "metadata": {
    "tags": []
   },
   "outputs": [
    {
     "name": "stdout",
     "output_type": "stream",
     "text": [
      "5 10\n"
     ]
    }
   ],
   "source": [
    "values = {\n",
    "    \"key\" : \"5\",\n",
    "    \"target\" : 10\n",
    "}\n",
    "\n",
    "def parse_values(key, target):\n",
    "    print(key, target)\n",
    "    \n",
    "parse_values(**values)"
   ]
  },
  {
   "cell_type": "code",
   "execution_count": 5,
   "id": "8adec60c-2bea-4812-9c88-119d02e06192",
   "metadata": {
    "tags": []
   },
   "outputs": [
    {
     "name": "stdout",
     "output_type": "stream",
     "text": [
      "key target\n"
     ]
    }
   ],
   "source": [
    "parse_values(*values)"
   ]
  },
  {
   "cell_type": "markdown",
   "id": "08a9aeff-1898-48e5-bca2-9ed84adb10a4",
   "metadata": {},
   "source": [
    "## 5. Default dictionary"
   ]
  },
  {
   "cell_type": "code",
   "execution_count": 8,
   "id": "920e3321-a08f-4618-8ce2-dc3af3c06eec",
   "metadata": {
    "tags": []
   },
   "outputs": [
    {
     "name": "stdout",
     "output_type": "stream",
     "text": [
      "{'a': 7, 'b': 6, 'c': 4, 's': 3}\n"
     ]
    }
   ],
   "source": [
    "char_count = {}\n",
    "string = \"aaaabbbccccbsbasbsaa\"\n",
    "\n",
    "for char in string:\n",
    "    if char not in char_count:\n",
    "        char_count[char] = 0\n",
    "    \n",
    "    char_count[char] += 1\n",
    "        \n",
    "print(char_count)"
   ]
  },
  {
   "cell_type": "markdown",
   "id": "8e9e12a4-7c22-447f-9450-0a567d40b683",
   "metadata": {},
   "source": [
    "Using collections package"
   ]
  },
  {
   "cell_type": "code",
   "execution_count": 9,
   "id": "3b113f2e-3fdf-4f06-a3a9-982ed21b8cf5",
   "metadata": {
    "tags": []
   },
   "outputs": [
    {
     "name": "stdout",
     "output_type": "stream",
     "text": [
      "defaultdict(<function default at 0x0000018DA6CA9080>, {'a': 7, 'b': 6, 'c': 4, 's': 3})\n"
     ]
    }
   ],
   "source": [
    "from collections import defaultdict\n",
    "\n",
    "# we have to define default values for the dict items.\n",
    "# it has to be a function\n",
    "\n",
    "def default():\n",
    "    return 0\n",
    "\n",
    "char_count = defaultdict(default)\n",
    "\n",
    "for char in string:\n",
    "    char_count[char] += 1\n",
    "    \n",
    "print(char_count)"
   ]
  },
  {
   "cell_type": "code",
   "execution_count": null,
   "id": "bc7cfe2f-3d92-4eea-9abd-53e546ba7eff",
   "metadata": {},
   "outputs": [],
   "source": []
  }
 ],
 "metadata": {
  "kernelspec": {
   "display_name": "Python 3 (ipykernel)",
   "language": "python",
   "name": "python3"
  },
  "language_info": {
   "codemirror_mode": {
    "name": "ipython",
    "version": 3
   },
   "file_extension": ".py",
   "mimetype": "text/x-python",
   "name": "python",
   "nbconvert_exporter": "python",
   "pygments_lexer": "ipython3",
   "version": "3.11.5"
  }
 },
 "nbformat": 4,
 "nbformat_minor": 5
}
